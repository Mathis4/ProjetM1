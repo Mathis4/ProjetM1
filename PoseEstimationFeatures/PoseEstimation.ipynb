{
 "cells": [
  {
   "cell_type": "code",
   "execution_count": 15,
   "id": "07a301e7",
   "metadata": {},
   "outputs": [],
   "source": [
    "import cv2\n",
    "import os\n",
    "\n",
    "# Création du dossier de destination\n",
    "output_folder = 'Personne_qui_marche/images'\n",
    "if not os.path.exists(output_folder):\n",
    "    os.makedirs(output_folder)\n",
    "\n",
    "# Chemin de la vidéo à traiter\n",
    "video_path = 'Personne_qui_marche/Personne_qui_marche.mp4'\n",
    "\n",
    "# Chargement de la vidéo\n",
    "video_capture = cv2.VideoCapture(video_path)\n",
    "\n",
    "# Lecture et extraction des frames en sautant deux frames sur trois\n",
    "count = 0  # Compteur pour nommer les frames\n",
    "\n",
    "while True:\n",
    "    success, image = video_capture.read()\n",
    "    \n",
    "    if not success:\n",
    "        break\n",
    "\n",
    "    # Sauvegarde chaque troisième frame\n",
    "    if count % 10 == 0:\n",
    "        frame_path = os.path.join(output_folder, \"frame%d.jpg\" % (count // 10))\n",
    "        cv2.imwrite(frame_path, image)\n",
    "    \n",
    "    count += 1\n",
    "\n",
    "# Libération de la ressource vidéo\n",
    "video_capture.release()"
   ]
  },
  {
   "cell_type": "code",
   "execution_count": null,
   "id": "5dcebd67",
   "metadata": {},
   "outputs": [],
   "source": []
  },
  {
   "cell_type": "code",
   "execution_count": null,
   "id": "7bb8dc7a",
   "metadata": {},
   "outputs": [],
   "source": []
  }
 ],
 "metadata": {
  "kernelspec": {
   "display_name": "Python 3 (ipykernel)",
   "language": "python",
   "name": "python3"
  },
  "language_info": {
   "codemirror_mode": {
    "name": "ipython",
    "version": 3
   },
   "file_extension": ".py",
   "mimetype": "text/x-python",
   "name": "python",
   "nbconvert_exporter": "python",
   "pygments_lexer": "ipython3",
   "version": "3.11.4"
  }
 },
 "nbformat": 4,
 "nbformat_minor": 5
}
