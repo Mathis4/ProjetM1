{
 "cells": [
  {
   "cell_type": "code",
   "execution_count": 22,
   "id": "07a301e7",
   "metadata": {},
   "outputs": [],
   "source": [
    "import cv2\n",
    "import os\n",
    "\n",
    "# video-path : Chemin de la vidéo à traiter\n",
    "# output_folder : Dossier de destination\n",
    "def video_to_frames(video_path, output_folder, frames_number):    \n",
    "    if not os.path.exists(output_folder):\n",
    "        os.makedirs(output_folder)\n",
    "    \n",
    "    # Chargement de la vidéo\n",
    "    video_capture = cv2.VideoCapture(video_path)\n",
    "\n",
    "    # Calcul du pas entre chaque frame pour obtenir le nombre requis\n",
    "    total_frames = int(video_capture.get(cv2.CAP_PROP_FRAME_COUNT))\n",
    "    frames_indices = [int(i * (total_frames - 1) / (frames_number - 1)) for i in range(frames_number)]\n",
    "\n",
    "    # Lecture et extraction des frames\n",
    "    count = 0  # Compteur pour nommer les frames\n",
    "    extracted_frames = 0\n",
    "\n",
    "    while True:\n",
    "        success, image = video_capture.read()\n",
    "\n",
    "        if not success:\n",
    "            break\n",
    "\n",
    "        if count in frames_indices:\n",
    "            frame_path = os.path.join(output_folder, f\"frame{extracted_frames}.jpg\")\n",
    "            cv2.imwrite(frame_path, image)\n",
    "            extracted_frames += 1\n",
    "\n",
    "        count += 1\n",
    "\n",
    "    # Libération de la ressource vidéo\n",
    "    video_capture.release()"
   ]
  },
  {
   "cell_type": "code",
   "execution_count": 23,
   "id": "5dcebd67",
   "metadata": {},
   "outputs": [],
   "source": [
    "\n",
    "output_folder1 = 'Personne_qui_marche/images'\n",
    "video_path1 = 'Personne_qui_marche/Personne_qui_marche.mp4'\n",
    "\n",
    "video_to_frames(video_path1, output_folder1, 10)"
   ]
  },
  {
   "cell_type": "code",
   "execution_count": 2,
   "id": "7bb8dc7a",
   "metadata": {},
   "outputs": [],
   "source": []
  },
  {
   "cell_type": "code",
   "execution_count": null,
   "id": "ed33d304",
   "metadata": {},
   "outputs": [],
   "source": []
  }
 ],
 "metadata": {
  "kernelspec": {
   "display_name": "Python 3 (ipykernel)",
   "language": "python",
   "name": "python3"
  },
  "language_info": {
   "codemirror_mode": {
    "name": "ipython",
    "version": 3
   },
   "file_extension": ".py",
   "mimetype": "text/x-python",
   "name": "python",
   "nbconvert_exporter": "python",
   "pygments_lexer": "ipython3",
   "version": "3.11.4"
  }
 },
 "nbformat": 4,
 "nbformat_minor": 5
}
